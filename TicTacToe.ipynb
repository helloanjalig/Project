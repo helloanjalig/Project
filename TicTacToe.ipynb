{
  "nbformat": 4,
  "nbformat_minor": 0,
  "metadata": {
    "colab": {
      "provenance": [],
      "collapsed_sections": [],
      "authorship_tag": "ABX9TyOYrzL5/ZELAs/bRa5edc1d",
      "include_colab_link": true
    },
    "kernelspec": {
      "name": "python3",
      "display_name": "Python 3"
    },
    "language_info": {
      "name": "python"
    }
  },
  "cells": [
    {
      "cell_type": "markdown",
      "metadata": {
        "id": "view-in-github",
        "colab_type": "text"
      },
      "source": [
        "<a href=\"https://colab.research.google.com/github/itsanjalichaudhary/Project/blob/main/TicTacToe.ipynb\" target=\"_parent\"><img src=\"https://colab.research.google.com/assets/colab-badge.svg\" alt=\"Open In Colab\"/></a>"
      ]
    },
    {
      "cell_type": "code",
      "execution_count": 1,
      "metadata": {
        "id": "2c8hag9yGKlD"
      },
      "outputs": [],
      "source": [
        "def printBoard(board):\n",
        "    print(board[1] + '|' + board[2] + '|' + board[3])\n",
        "    print('-+-+-')\n",
        "    print(board[4] + '|' + board[5] + '|' + board[6])\n",
        "    print('-+-+-')\n",
        "    print(board[7] + '|' + board[8] + '|' + board[9])\n",
        "    print(\"\\n\")"
      ]
    },
    {
      "cell_type": "code",
      "source": [
        "def spaceIsFree(position):\n",
        "    if board[position] == ' ':\n",
        "        return True\n",
        "    else:\n",
        "        return False"
      ],
      "metadata": {
        "id": "314Qmi4EGeCg"
      },
      "execution_count": 2,
      "outputs": []
    },
    {
      "cell_type": "code",
      "source": [
        "def insertLetter(letter, position):\n",
        "    if spaceIsFree(position):\n",
        "        board[position] = letter\n",
        "        printBoard(board)\n",
        "        if (checkDraw()):\n",
        "            print(\"Draw!\")\n",
        "            exit()\n",
        "        if checkForWin():\n",
        "            if letter == 'X':\n",
        "                print(\"Bot wins!\")\n",
        "                exit()\n",
        "            else:\n",
        "                print(\"Player wins!\")\n",
        "                exit()\n",
        "\n",
        "        return\n",
        "\n",
        "\n",
        "    else:\n",
        "        print(\"Can't insert there!\")\n",
        "        position = int(input(\"Please enter new position:  \"))\n",
        "        insertLetter(letter, position)\n",
        "        return"
      ],
      "metadata": {
        "id": "NoYgW6F0Gg1C"
      },
      "execution_count": 3,
      "outputs": []
    },
    {
      "cell_type": "code",
      "source": [
        "def checkForWin():\n",
        "    if (board[1] == board[2] and board[1] == board[3] and board[1] != ' '):\n",
        "        return True\n",
        "    elif (board[4] == board[5] and board[4] == board[6] and board[4] != ' '):\n",
        "        return True\n",
        "    elif (board[7] == board[8] and board[7] == board[9] and board[7] != ' '):\n",
        "        return True\n",
        "    elif (board[1] == board[4] and board[1] == board[7] and board[1] != ' '):\n",
        "        return True\n",
        "    elif (board[2] == board[5] and board[2] == board[8] and board[2] != ' '):\n",
        "        return True\n",
        "    elif (board[3] == board[6] and board[3] == board[9] and board[3] != ' '):\n",
        "        return True\n",
        "    elif (board[1] == board[5] and board[1] == board[9] and board[1] != ' '):\n",
        "        return True\n",
        "    elif (board[7] == board[5] and board[7] == board[3] and board[7] != ' '):\n",
        "        return True\n",
        "    else:\n",
        "        return False"
      ],
      "metadata": {
        "id": "hP6eDuWpGk8K"
      },
      "execution_count": 4,
      "outputs": []
    },
    {
      "cell_type": "code",
      "source": [
        "def checkWhichMarkWon(mark):\n",
        "    if board[1] == board[2] and board[1] == board[3] and board[1] == mark:\n",
        "        return True\n",
        "    elif (board[4] == board[5] and board[4] == board[6] and board[4] == mark):\n",
        "        return True\n",
        "    elif (board[7] == board[8] and board[7] == board[9] and board[7] == mark):\n",
        "        return True\n",
        "    elif (board[1] == board[4] and board[1] == board[7] and board[1] == mark):\n",
        "        return True\n",
        "    elif (board[2] == board[5] and board[2] == board[8] and board[2] == mark):\n",
        "        return True\n",
        "    elif (board[3] == board[6] and board[3] == board[9] and board[3] == mark):\n",
        "        return True\n",
        "    elif (board[1] == board[5] and board[1] == board[9] and board[1] == mark):\n",
        "        return True\n",
        "    elif (board[7] == board[5] and board[7] == board[3] and board[7] == mark):\n",
        "        return True\n",
        "    else:\n",
        "        return False"
      ],
      "metadata": {
        "id": "THzcWE2XGpv0"
      },
      "execution_count": 5,
      "outputs": []
    },
    {
      "cell_type": "code",
      "source": [
        "def checkDraw():\n",
        "    for key in board.keys():\n",
        "        if (board[key] == ' '):\n",
        "            return False\n",
        "    return True"
      ],
      "metadata": {
        "id": "hYluFfQdGsp9"
      },
      "execution_count": 6,
      "outputs": []
    },
    {
      "cell_type": "code",
      "source": [
        "def playerMove():\n",
        "    position = int(input(\"Enter the position for 'O':  \"))\n",
        "    insertLetter(player, position)\n",
        "    return"
      ],
      "metadata": {
        "id": "08qMIkUGGvM-"
      },
      "execution_count": 7,
      "outputs": []
    },
    {
      "cell_type": "code",
      "source": [
        "def compMove():\n",
        "    bestScore = -800\n",
        "    bestMove = 0\n",
        "    for key in board.keys():\n",
        "        if (board[key] == ' '):\n",
        "            board[key] = bot\n",
        "            score = minimax(board, 0, False)\n",
        "            board[key] = ' '\n",
        "            if (score > bestScore):\n",
        "                bestScore = score\n",
        "                bestMove = key\n",
        "\n",
        "    insertLetter(bot, bestMove)\n",
        "    return"
      ],
      "metadata": {
        "id": "-uzl81s4GxIe"
      },
      "execution_count": 8,
      "outputs": []
    },
    {
      "cell_type": "code",
      "source": [
        "def minimax(board, depth, isMaximizing):\n",
        "    if (checkWhichMarkWon(bot)):\n",
        "        return 1\n",
        "    elif (checkWhichMarkWon(player)):\n",
        "        return -1\n",
        "    elif (checkDraw()):\n",
        "        return 0\n",
        "\n",
        "    if (isMaximizing):\n",
        "        bestScore = -800\n",
        "        for key in board.keys():\n",
        "            if (board[key] == ' '):\n",
        "                board[key] = bot\n",
        "                score = minimax(board, depth + 1, False)\n",
        "                board[key] = ' '\n",
        "                if (score > bestScore):\n",
        "                    bestScore = score\n",
        "        return bestScore\n",
        "\n",
        "    else:\n",
        "        bestScore = 800\n",
        "        for key in board.keys():\n",
        "            if (board[key] == ' '):\n",
        "                board[key] = player\n",
        "                score = minimax(board, depth + 1, True)\n",
        "                board[key] = ' '\n",
        "                if (score < bestScore):\n",
        "                    bestScore = score\n",
        "        return bestScore"
      ],
      "metadata": {
        "id": "99LaK_VEGzYC"
      },
      "execution_count": 9,
      "outputs": []
    },
    {
      "cell_type": "code",
      "source": [
        "board = {1: ' ', 2: ' ', 3: ' ',\n",
        "         4: ' ', 5: ' ', 6: ' ',\n",
        "         7: ' ', 8: ' ', 9: ' '}\n",
        "\n",
        "printBoard(board)\n",
        "print(\"Computer goes first! Good luck.\")\n",
        "print(\"Positions are as follow:\")\n",
        "print(\"1, 2, 3 \")\n",
        "print(\"4, 5, 6 \")\n",
        "print(\"7, 8, 9 \")\n",
        "print(\"\\n\")\n",
        "player = 'O'\n",
        "bot = 'X'\n",
        "\n",
        "\n",
        "global firstComputerMove\n",
        "firstComputerMove = True\n",
        "\n",
        "while not checkForWin():\n",
        "    compMove()\n",
        "    playerMove()"
      ],
      "metadata": {
        "colab": {
          "base_uri": "https://localhost:8080/"
        },
        "id": "q-geYBl2G160",
        "outputId": "b2b926e3-2418-487d-db0f-d3a177eea575"
      },
      "execution_count": null,
      "outputs": [
        {
          "output_type": "stream",
          "name": "stdout",
          "text": [
            " | | \n",
            "-+-+-\n",
            " | | \n",
            "-+-+-\n",
            " | | \n",
            "\n",
            "\n",
            "Computer goes first! Good luck.\n",
            "Positions are as follow:\n",
            "1, 2, 3 \n",
            "4, 5, 6 \n",
            "7, 8, 9 \n",
            "\n",
            "\n",
            "X| | \n",
            "-+-+-\n",
            " | | \n",
            "-+-+-\n",
            " | | \n",
            "\n",
            "\n"
          ]
        }
      ]
    }
  ]
}