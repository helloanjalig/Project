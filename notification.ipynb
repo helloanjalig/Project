{
  "nbformat": 4,
  "nbformat_minor": 0,
  "metadata": {
    "colab": {
      "provenance": [],
      "collapsed_sections": [],
      "authorship_tag": "ABX9TyM4zYNux7h+FMxRmz8KXfhJ",
      "include_colab_link": true
    },
    "kernelspec": {
      "name": "python3",
      "display_name": "Python 3"
    },
    "language_info": {
      "name": "python"
    }
  },
  "cells": [
    {
      "cell_type": "markdown",
      "metadata": {
        "id": "view-in-github",
        "colab_type": "text"
      },
      "source": [
        "<a href=\"https://colab.research.google.com/github/itsanjalichaudhary/Project/blob/main/notification.ipynb\" target=\"_parent\"><img src=\"https://colab.research.google.com/assets/colab-badge.svg\" alt=\"Open In Colab\"/></a>"
      ]
    },
    {
      "cell_type": "code",
      "source": [
        "import requests\n",
        "import xml.etree.ElementTree as ET\n",
        "\n",
        "# url of news rss feed\n",
        "RSS_FEED_URL = \"http://www.hindustantimes.com/rss/topnews/rssfeed.xml\"\t\n",
        "\n",
        "def loadRSS():\n",
        "\t'''\n",
        "\tutility function to load RSS feed\n",
        "\t'''\n",
        "\t# create HTTP request response object\n",
        "\tresp = requests.get(RSS_FEED_URL)\n",
        "\n",
        "\t# return response content\n",
        "\treturn resp.content\n",
        "\n",
        "def parseXML(rss):\n",
        "\t'''\n",
        "\tutility function to parse XML format rss feed\n",
        "\t'''\n",
        "\t# create element tree root object\n",
        "\troot = ET.fromstring(rss)\n",
        "\n",
        "\t# create empty list for news items\n",
        "\tnewsitems = []\n",
        "\n",
        "\t# iterate news items\n",
        "\tfor item in root.findall('./channel/item'):\n",
        "\t\tnews = {}\n",
        "\n",
        "\t\t# iterate child elements of item\n",
        "\t\tfor child in item:\n",
        "\n",
        "\t\t\t# special checking for namespace object content:media\n",
        "\t\t\tif child.tag == '{http://search.yahoo.com/mrss/}content':\n",
        "\t\t\t\tnews['media'] = child.attrib['url']\n",
        "\t\t\telse:\n",
        "\t\t\t\tnews[child.tag] = child.text.encode('utf8')\n",
        "\t\tnewsitems.append(news)\n",
        "\n",
        "\t# return news items list\n",
        "\treturn newsitems\n",
        "\n",
        "def topStories():\n",
        "\t'''\n",
        "\tmain function to generate and return news items\n",
        "\t'''\n",
        "\t# load rss feed\n",
        "\trss = loadRSS()\n",
        "\n",
        "\t# parse XML\n",
        "\tnewsitems = parseXML(rss)\n",
        "\treturn newsitems\n"
      ],
      "metadata": {
        "id": "XXTEhS2lAeDo"
      },
      "execution_count": 12,
      "outputs": []
    }
  ]
}